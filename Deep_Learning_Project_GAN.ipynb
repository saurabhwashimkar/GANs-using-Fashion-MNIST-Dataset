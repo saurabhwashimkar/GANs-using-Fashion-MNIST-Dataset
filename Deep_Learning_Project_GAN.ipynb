{
  "cells": [
    {
      "cell_type": "code",
      "source": [
        "#Importing the required libraries\n",
        "import torch\n",
        "import torch.nn as nn\n",
        "import torch.optim as optim\n",
        "import torchvision.transforms as transforms\n",
        "from torchvision.datasets import FashionMNIST\n",
        "from torch.utils.data import DataLoader\n",
        "import matplotlib.pyplot as plt"
      ],
      "metadata": {
        "id": "_RNZK5Rhra82"
      },
      "execution_count": 2,
      "outputs": []
    },
    {
      "cell_type": "code",
      "source": [
        "# Set random seed for reproducibility\n",
        "torch.manual_seed(42)"
      ],
      "metadata": {
        "colab": {
          "base_uri": "https://localhost:8080/"
        },
        "id": "LYHVE0K1rnyd",
        "outputId": "8eb0c7ea-fac0-44ce-a269-06134f3d7e64"
      },
      "execution_count": 3,
      "outputs": [
        {
          "output_type": "execute_result",
          "data": {
            "text/plain": [
              "<torch._C.Generator at 0x7f9cb8359150>"
            ]
          },
          "metadata": {},
          "execution_count": 3
        }
      ]
    },
    {
      "cell_type": "code",
      "source": [
        "# Hyperparameters\n",
        "batch_size = 128\n",
        "latent_dim = 100\n",
        "epochs = 100\n",
        "learning_rate = 0.0002"
      ],
      "metadata": {
        "id": "i3eapKMArrT_"
      },
      "execution_count": 4,
      "outputs": []
    },
    {
      "cell_type": "code",
      "source": [
        "# FashionMNIST dataset\n",
        "transform = transforms.Compose([\n",
        "    transforms.ToTensor(),\n",
        "    transforms.Normalize((0.5,), (0.5,))\n",
        "])\n",
        "\n",
        "train_dataset = FashionMNIST(root='./data', train=True, download=True, transform=transform)\n",
        "train_loader = DataLoader(train_dataset, batch_size=batch_size, shuffle=True)\n"
      ],
      "metadata": {
        "id": "jvlAeg_gru9U"
      },
      "execution_count": 5,
      "outputs": []
    },
    {
      "cell_type": "code",
      "source": [
        "# Generator\n",
        "class Generator(nn.Module):\n",
        "    def __init__(self, latent_dim):\n",
        "        super(Generator, self).__init__()\n",
        "        self.latent_dim = latent_dim\n",
        "        self.fc = nn.Sequential(\n",
        "            nn.Linear(latent_dim, 256),\n",
        "            nn.LeakyReLU(0.2),\n",
        "            nn.Linear(256, 512),\n",
        "            nn.LeakyReLU(0.2),\n",
        "            nn.Linear(512, 1024),\n",
        "            nn.LeakyReLU(0.2),\n",
        "            nn.Linear(1024, 784),\n",
        "            nn.Tanh()\n",
        "        )\n",
        "        \n",
        "    def forward(self, z):\n",
        "        out = self.fc(z)\n",
        "        return out\n"
      ],
      "metadata": {
        "id": "CN275nPkrzP2"
      },
      "execution_count": 6,
      "outputs": []
    },
    {
      "cell_type": "code",
      "source": [
        "# Discriminator\n",
        "class Discriminator(nn.Module):\n",
        "    def __init__(self):\n",
        "        super(Discriminator, self).__init__()\n",
        "        self.fc = nn.Sequential(\n",
        "            nn.Linear(784, 512),\n",
        "            nn.LeakyReLU(0.2),\n",
        "            nn.Linear(512, 256),\n",
        "            nn.LeakyReLU(0.2),\n",
        "            nn.Linear(256, 1),\n",
        "            nn.Sigmoid()\n",
        "        )\n",
        "        \n",
        "    def forward(self, x):\n",
        "        x = x.view(x.size(0), -1)\n",
        "        out = self.fc(x)\n",
        "        return out\n"
      ],
      "metadata": {
        "id": "0et2_0G8r3mf"
      },
      "execution_count": 7,
      "outputs": []
    },
    {
      "cell_type": "code",
      "source": [
        "# Initialize the generator and discriminator\n",
        "generator = Generator(latent_dim)\n",
        "discriminator = Discriminator()"
      ],
      "metadata": {
        "id": "PyX6XjaYr-3R"
      },
      "execution_count": 8,
      "outputs": []
    },
    {
      "cell_type": "code",
      "source": [
        "# Loss function\n",
        "criterion = nn.BCELoss()"
      ],
      "metadata": {
        "id": "FFbJx3c4sCP9"
      },
      "execution_count": 9,
      "outputs": []
    },
    {
      "cell_type": "code",
      "source": [
        "# Optimizers\n",
        "optimizer_G = optim.Adam(generator.parameters(), lr=learning_rate)\n",
        "optimizer_D = optim.Adam(discriminator.parameters(), lr=learning_rate)\n"
      ],
      "metadata": {
        "id": "4kT46nassDPR"
      },
      "execution_count": 10,
      "outputs": []
    },
    {
      "cell_type": "code",
      "source": [
        "# Training loop\n",
        "device = torch.device('cuda' if torch.cuda.is_available() else 'cpu')\n",
        "generator.to(device)\n",
        "discriminator.to(device)\n",
        "\n",
        "gen_losses = []\n",
        "disc_losses = []\n",
        "\n",
        "for epoch in range(epochs):\n",
        "    for i, batch in enumerate(train_loader):\n",
        "        real_images, _ = batch\n",
        "        real_images = real_images.to(device)\n",
        "        \n",
        "        # Train Discriminator\n",
        "        optimizer_D.zero_grad()\n",
        "        \n",
        "        # Real images\n",
        "        real_labels = torch.ones(real_images.size(0), 1).to(device)\n",
        "        real_output = discriminator(real_images)\n",
        "        D_real_loss = criterion(real_output, real_labels)\n",
        "        \n",
        "        # Fake images\n",
        "        z = torch.randn(real_images.size(0), latent_dim).to(device)\n",
        "        fake_images = generator(z)\n",
        "        fake_labels = torch.zeros(real_images.size(0), 1).to(device)\n",
        "        fake_output = discriminator(fake_images.detach())\n",
        "        D_fake_loss = criterion(fake_output, fake_labels)\n",
        "        \n",
        "        # Total discriminator loss\n",
        "        D_loss = D_real_loss + D_fake_loss\n",
        "        D_loss.backward()\n",
        "        optimizer_D.step()\n",
        "        \n",
        "        # Train Generator\n",
        "        optimizer_G.zero_grad()\n",
        "        \n",
        "        z = torch.randn(real_images.size(0), latent_dim).to(device)\n",
        "        fake_images = generator(z)\n",
        "        real_labels = torch.ones(real_images.size(0), 1).to(device)\n",
        "        fake_output = discriminator(fake_images)\n",
        "        G_loss = criterion(fake_output, real_labels)\n",
        "        G_loss.backward()\n",
        "        optimizer_G.step()\n",
        "        \n",
        "        # Record losses\n",
        "        gen_losses.append(G_loss.item())\n",
        "        disc_losses.append(D_loss.item())\n",
        "        \n",
        "        if (i + 1) % 200 == 0:\n",
        "            print(\n",
        "                f'Epoch [{epoch + 1}/{epochs}], '\n",
        "                f'Step [{i + 1}/{len(train_loader)}], '\n",
        "                f'D_loss: {D_loss.item():.4f}, '\n",
        "                f'G_loss: {G_loss.item():.4f}'\n",
        "            )\n"
      ],
      "metadata": {
        "colab": {
          "base_uri": "https://localhost:8080/"
        },
        "id": "mrj0K3FwsGo7",
        "outputId": "7e6636a9-1428-478c-fb8d-f056b2f520c8"
      },
      "execution_count": 11,
      "outputs": [
        {
          "output_type": "stream",
          "name": "stdout",
          "text": [
            "Epoch [1/100], Step [200/469], D_loss: 0.2798, G_loss: 3.0296\n",
            "Epoch [1/100], Step [400/469], D_loss: 0.2775, G_loss: 2.3854\n",
            "Epoch [2/100], Step [200/469], D_loss: 1.2962, G_loss: 1.3225\n",
            "Epoch [2/100], Step [400/469], D_loss: 0.1869, G_loss: 3.6558\n",
            "Epoch [3/100], Step [200/469], D_loss: 1.0076, G_loss: 3.0061\n",
            "Epoch [3/100], Step [400/469], D_loss: 0.1919, G_loss: 3.6249\n",
            "Epoch [4/100], Step [200/469], D_loss: 0.5697, G_loss: 3.5342\n",
            "Epoch [4/100], Step [400/469], D_loss: 0.4872, G_loss: 3.9249\n",
            "Epoch [5/100], Step [200/469], D_loss: 0.9019, G_loss: 3.9237\n",
            "Epoch [5/100], Step [400/469], D_loss: 0.6029, G_loss: 2.5866\n",
            "Epoch [6/100], Step [200/469], D_loss: 0.9696, G_loss: 3.0360\n",
            "Epoch [6/100], Step [400/469], D_loss: 1.0001, G_loss: 1.6446\n",
            "Epoch [7/100], Step [200/469], D_loss: 0.4556, G_loss: 3.0823\n",
            "Epoch [7/100], Step [400/469], D_loss: 0.8196, G_loss: 2.4371\n",
            "Epoch [8/100], Step [200/469], D_loss: 0.4900, G_loss: 4.1383\n",
            "Epoch [8/100], Step [400/469], D_loss: 0.2895, G_loss: 4.3212\n",
            "Epoch [9/100], Step [200/469], D_loss: 0.3669, G_loss: 4.8815\n",
            "Epoch [9/100], Step [400/469], D_loss: 0.2511, G_loss: 3.3030\n",
            "Epoch [10/100], Step [200/469], D_loss: 0.3628, G_loss: 3.2404\n",
            "Epoch [10/100], Step [400/469], D_loss: 0.4208, G_loss: 3.6269\n",
            "Epoch [11/100], Step [200/469], D_loss: 0.6073, G_loss: 4.2424\n",
            "Epoch [11/100], Step [400/469], D_loss: 0.4354, G_loss: 2.7213\n",
            "Epoch [12/100], Step [200/469], D_loss: 0.7365, G_loss: 2.9591\n",
            "Epoch [12/100], Step [400/469], D_loss: 0.5499, G_loss: 2.6772\n",
            "Epoch [13/100], Step [200/469], D_loss: 0.4660, G_loss: 3.1340\n",
            "Epoch [13/100], Step [400/469], D_loss: 0.6353, G_loss: 3.1038\n",
            "Epoch [14/100], Step [200/469], D_loss: 0.6991, G_loss: 2.1548\n",
            "Epoch [14/100], Step [400/469], D_loss: 0.6242, G_loss: 2.8809\n",
            "Epoch [15/100], Step [200/469], D_loss: 1.0682, G_loss: 2.0560\n",
            "Epoch [15/100], Step [400/469], D_loss: 0.6876, G_loss: 2.0959\n",
            "Epoch [16/100], Step [200/469], D_loss: 0.9114, G_loss: 2.3403\n",
            "Epoch [16/100], Step [400/469], D_loss: 0.7969, G_loss: 2.3021\n",
            "Epoch [17/100], Step [200/469], D_loss: 1.0033, G_loss: 2.2140\n",
            "Epoch [17/100], Step [400/469], D_loss: 0.7553, G_loss: 2.0611\n",
            "Epoch [18/100], Step [200/469], D_loss: 0.7816, G_loss: 2.2888\n",
            "Epoch [18/100], Step [400/469], D_loss: 0.6571, G_loss: 2.4712\n",
            "Epoch [19/100], Step [200/469], D_loss: 1.0000, G_loss: 1.5972\n",
            "Epoch [19/100], Step [400/469], D_loss: 0.9103, G_loss: 1.9344\n",
            "Epoch [20/100], Step [200/469], D_loss: 1.0214, G_loss: 1.8858\n",
            "Epoch [20/100], Step [400/469], D_loss: 0.8323, G_loss: 2.1033\n",
            "Epoch [21/100], Step [200/469], D_loss: 0.8060, G_loss: 1.8465\n",
            "Epoch [21/100], Step [400/469], D_loss: 1.1046, G_loss: 1.8411\n",
            "Epoch [22/100], Step [200/469], D_loss: 0.7711, G_loss: 1.8207\n",
            "Epoch [22/100], Step [400/469], D_loss: 0.9949, G_loss: 1.5756\n",
            "Epoch [23/100], Step [200/469], D_loss: 1.1027, G_loss: 1.7020\n",
            "Epoch [23/100], Step [400/469], D_loss: 1.2129, G_loss: 1.2829\n",
            "Epoch [24/100], Step [200/469], D_loss: 1.1705, G_loss: 1.5739\n",
            "Epoch [24/100], Step [400/469], D_loss: 0.8689, G_loss: 1.3982\n",
            "Epoch [25/100], Step [200/469], D_loss: 1.1593, G_loss: 1.1599\n",
            "Epoch [25/100], Step [400/469], D_loss: 0.9017, G_loss: 1.3330\n",
            "Epoch [26/100], Step [200/469], D_loss: 1.1856, G_loss: 1.6386\n",
            "Epoch [26/100], Step [400/469], D_loss: 1.0806, G_loss: 1.6062\n",
            "Epoch [27/100], Step [200/469], D_loss: 1.2566, G_loss: 1.3445\n",
            "Epoch [27/100], Step [400/469], D_loss: 1.1825, G_loss: 1.2288\n",
            "Epoch [28/100], Step [200/469], D_loss: 0.9692, G_loss: 1.2879\n",
            "Epoch [28/100], Step [400/469], D_loss: 1.2507, G_loss: 1.2739\n",
            "Epoch [29/100], Step [200/469], D_loss: 1.1676, G_loss: 1.2440\n",
            "Epoch [29/100], Step [400/469], D_loss: 1.2411, G_loss: 1.3880\n",
            "Epoch [30/100], Step [200/469], D_loss: 1.2546, G_loss: 1.4838\n",
            "Epoch [30/100], Step [400/469], D_loss: 0.7717, G_loss: 1.4210\n",
            "Epoch [31/100], Step [200/469], D_loss: 1.3923, G_loss: 1.8880\n",
            "Epoch [31/100], Step [400/469], D_loss: 0.9702, G_loss: 1.3651\n",
            "Epoch [32/100], Step [200/469], D_loss: 1.1867, G_loss: 1.5976\n",
            "Epoch [32/100], Step [400/469], D_loss: 0.9486, G_loss: 1.2930\n",
            "Epoch [33/100], Step [200/469], D_loss: 1.0419, G_loss: 1.4184\n",
            "Epoch [33/100], Step [400/469], D_loss: 1.2566, G_loss: 1.5714\n",
            "Epoch [34/100], Step [200/469], D_loss: 0.9764, G_loss: 1.3859\n",
            "Epoch [34/100], Step [400/469], D_loss: 0.7998, G_loss: 1.5613\n",
            "Epoch [35/100], Step [200/469], D_loss: 0.9317, G_loss: 1.1838\n",
            "Epoch [35/100], Step [400/469], D_loss: 1.4086, G_loss: 1.3092\n",
            "Epoch [36/100], Step [200/469], D_loss: 0.9336, G_loss: 1.4081\n",
            "Epoch [36/100], Step [400/469], D_loss: 1.2285, G_loss: 1.4296\n",
            "Epoch [37/100], Step [200/469], D_loss: 1.3298, G_loss: 1.1097\n",
            "Epoch [37/100], Step [400/469], D_loss: 1.0301, G_loss: 1.4741\n",
            "Epoch [38/100], Step [200/469], D_loss: 1.2708, G_loss: 1.2543\n",
            "Epoch [38/100], Step [400/469], D_loss: 0.9612, G_loss: 1.6347\n",
            "Epoch [39/100], Step [200/469], D_loss: 1.0625, G_loss: 1.5916\n",
            "Epoch [39/100], Step [400/469], D_loss: 0.8926, G_loss: 1.2631\n",
            "Epoch [40/100], Step [200/469], D_loss: 1.1152, G_loss: 1.0448\n",
            "Epoch [40/100], Step [400/469], D_loss: 1.1298, G_loss: 1.3469\n",
            "Epoch [41/100], Step [200/469], D_loss: 0.9140, G_loss: 1.4431\n",
            "Epoch [41/100], Step [400/469], D_loss: 1.2416, G_loss: 1.1866\n",
            "Epoch [42/100], Step [200/469], D_loss: 1.0095, G_loss: 1.2761\n",
            "Epoch [42/100], Step [400/469], D_loss: 1.1857, G_loss: 1.5444\n",
            "Epoch [43/100], Step [200/469], D_loss: 0.9274, G_loss: 1.4001\n",
            "Epoch [43/100], Step [400/469], D_loss: 1.0097, G_loss: 1.3037\n",
            "Epoch [44/100], Step [200/469], D_loss: 0.9193, G_loss: 1.3864\n",
            "Epoch [44/100], Step [400/469], D_loss: 0.9890, G_loss: 1.4423\n",
            "Epoch [45/100], Step [200/469], D_loss: 1.1953, G_loss: 1.3026\n",
            "Epoch [45/100], Step [400/469], D_loss: 0.9243, G_loss: 1.6139\n",
            "Epoch [46/100], Step [200/469], D_loss: 1.2045, G_loss: 1.1408\n",
            "Epoch [46/100], Step [400/469], D_loss: 1.0872, G_loss: 1.5973\n",
            "Epoch [47/100], Step [200/469], D_loss: 1.0514, G_loss: 1.3364\n",
            "Epoch [47/100], Step [400/469], D_loss: 1.3942, G_loss: 1.1660\n",
            "Epoch [48/100], Step [200/469], D_loss: 1.0447, G_loss: 1.2461\n",
            "Epoch [48/100], Step [400/469], D_loss: 1.0983, G_loss: 1.2814\n",
            "Epoch [49/100], Step [200/469], D_loss: 0.7924, G_loss: 1.5539\n",
            "Epoch [49/100], Step [400/469], D_loss: 1.1645, G_loss: 1.2230\n",
            "Epoch [50/100], Step [200/469], D_loss: 1.0521, G_loss: 1.3845\n",
            "Epoch [50/100], Step [400/469], D_loss: 1.3097, G_loss: 1.0850\n",
            "Epoch [51/100], Step [200/469], D_loss: 1.0632, G_loss: 1.2570\n",
            "Epoch [51/100], Step [400/469], D_loss: 1.1520, G_loss: 1.1141\n",
            "Epoch [52/100], Step [200/469], D_loss: 0.8337, G_loss: 1.6646\n",
            "Epoch [52/100], Step [400/469], D_loss: 0.9526, G_loss: 1.2927\n",
            "Epoch [53/100], Step [200/469], D_loss: 1.3914, G_loss: 1.1380\n",
            "Epoch [53/100], Step [400/469], D_loss: 1.1538, G_loss: 1.1872\n",
            "Epoch [54/100], Step [200/469], D_loss: 1.0475, G_loss: 1.2874\n",
            "Epoch [54/100], Step [400/469], D_loss: 1.3706, G_loss: 1.1427\n",
            "Epoch [55/100], Step [200/469], D_loss: 0.9970, G_loss: 1.4690\n",
            "Epoch [55/100], Step [400/469], D_loss: 1.2442, G_loss: 1.2529\n",
            "Epoch [56/100], Step [200/469], D_loss: 1.6080, G_loss: 1.1940\n",
            "Epoch [56/100], Step [400/469], D_loss: 0.8554, G_loss: 1.4680\n",
            "Epoch [57/100], Step [200/469], D_loss: 1.2185, G_loss: 1.3760\n",
            "Epoch [57/100], Step [400/469], D_loss: 0.8311, G_loss: 1.3832\n",
            "Epoch [58/100], Step [200/469], D_loss: 1.0574, G_loss: 1.3074\n",
            "Epoch [58/100], Step [400/469], D_loss: 1.2244, G_loss: 1.4917\n",
            "Epoch [59/100], Step [200/469], D_loss: 1.1270, G_loss: 1.4649\n",
            "Epoch [59/100], Step [400/469], D_loss: 0.9799, G_loss: 1.3710\n",
            "Epoch [60/100], Step [200/469], D_loss: 1.1990, G_loss: 1.1373\n",
            "Epoch [60/100], Step [400/469], D_loss: 1.1836, G_loss: 1.0597\n",
            "Epoch [61/100], Step [200/469], D_loss: 0.9852, G_loss: 1.3512\n",
            "Epoch [61/100], Step [400/469], D_loss: 1.1749, G_loss: 1.3037\n",
            "Epoch [62/100], Step [200/469], D_loss: 1.0202, G_loss: 1.3539\n",
            "Epoch [62/100], Step [400/469], D_loss: 1.2956, G_loss: 1.1024\n",
            "Epoch [63/100], Step [200/469], D_loss: 1.2324, G_loss: 1.3635\n",
            "Epoch [63/100], Step [400/469], D_loss: 1.1581, G_loss: 1.4015\n",
            "Epoch [64/100], Step [200/469], D_loss: 1.1586, G_loss: 1.2942\n",
            "Epoch [64/100], Step [400/469], D_loss: 1.1728, G_loss: 1.1211\n",
            "Epoch [65/100], Step [200/469], D_loss: 0.9662, G_loss: 1.4933\n",
            "Epoch [65/100], Step [400/469], D_loss: 1.0492, G_loss: 1.1654\n",
            "Epoch [66/100], Step [200/469], D_loss: 1.4768, G_loss: 1.3122\n",
            "Epoch [66/100], Step [400/469], D_loss: 0.8602, G_loss: 1.8093\n",
            "Epoch [67/100], Step [200/469], D_loss: 1.1634, G_loss: 1.1937\n",
            "Epoch [67/100], Step [400/469], D_loss: 1.1669, G_loss: 1.5815\n",
            "Epoch [68/100], Step [200/469], D_loss: 1.1687, G_loss: 1.1675\n",
            "Epoch [68/100], Step [400/469], D_loss: 0.6639, G_loss: 2.0671\n",
            "Epoch [69/100], Step [200/469], D_loss: 1.0791, G_loss: 1.3587\n",
            "Epoch [69/100], Step [400/469], D_loss: 0.9951, G_loss: 1.3265\n",
            "Epoch [70/100], Step [200/469], D_loss: 1.1078, G_loss: 1.1864\n",
            "Epoch [70/100], Step [400/469], D_loss: 1.0405, G_loss: 1.3243\n",
            "Epoch [71/100], Step [200/469], D_loss: 0.9628, G_loss: 1.2550\n",
            "Epoch [71/100], Step [400/469], D_loss: 1.1373, G_loss: 1.2873\n",
            "Epoch [72/100], Step [200/469], D_loss: 1.1252, G_loss: 1.3489\n",
            "Epoch [72/100], Step [400/469], D_loss: 1.2378, G_loss: 1.1219\n",
            "Epoch [73/100], Step [200/469], D_loss: 0.9316, G_loss: 1.3417\n",
            "Epoch [73/100], Step [400/469], D_loss: 1.0401, G_loss: 1.4181\n",
            "Epoch [74/100], Step [200/469], D_loss: 1.1166, G_loss: 1.3180\n",
            "Epoch [74/100], Step [400/469], D_loss: 1.0953, G_loss: 1.1494\n",
            "Epoch [75/100], Step [200/469], D_loss: 1.0238, G_loss: 1.2683\n",
            "Epoch [75/100], Step [400/469], D_loss: 1.0891, G_loss: 1.0969\n",
            "Epoch [76/100], Step [200/469], D_loss: 1.0154, G_loss: 1.1592\n",
            "Epoch [76/100], Step [400/469], D_loss: 1.2369, G_loss: 1.2626\n",
            "Epoch [77/100], Step [200/469], D_loss: 1.1888, G_loss: 1.2318\n",
            "Epoch [77/100], Step [400/469], D_loss: 1.1130, G_loss: 1.0634\n",
            "Epoch [78/100], Step [200/469], D_loss: 1.3525, G_loss: 1.1351\n",
            "Epoch [78/100], Step [400/469], D_loss: 0.9887, G_loss: 1.1484\n",
            "Epoch [79/100], Step [200/469], D_loss: 1.0574, G_loss: 1.2825\n",
            "Epoch [79/100], Step [400/469], D_loss: 1.3947, G_loss: 1.0001\n",
            "Epoch [80/100], Step [200/469], D_loss: 1.0149, G_loss: 1.3892\n",
            "Epoch [80/100], Step [400/469], D_loss: 0.8902, G_loss: 1.4850\n",
            "Epoch [81/100], Step [200/469], D_loss: 1.1563, G_loss: 1.3065\n",
            "Epoch [81/100], Step [400/469], D_loss: 1.2976, G_loss: 0.9868\n",
            "Epoch [82/100], Step [200/469], D_loss: 1.0857, G_loss: 1.0694\n",
            "Epoch [82/100], Step [400/469], D_loss: 0.8045, G_loss: 1.3485\n",
            "Epoch [83/100], Step [200/469], D_loss: 1.2175, G_loss: 1.0773\n",
            "Epoch [83/100], Step [400/469], D_loss: 1.2077, G_loss: 0.9953\n",
            "Epoch [84/100], Step [200/469], D_loss: 1.1618, G_loss: 1.0754\n",
            "Epoch [84/100], Step [400/469], D_loss: 1.1494, G_loss: 1.0936\n",
            "Epoch [85/100], Step [200/469], D_loss: 1.0406, G_loss: 1.1224\n",
            "Epoch [85/100], Step [400/469], D_loss: 1.1718, G_loss: 0.9841\n",
            "Epoch [86/100], Step [200/469], D_loss: 1.3820, G_loss: 1.1943\n",
            "Epoch [86/100], Step [400/469], D_loss: 1.1703, G_loss: 1.1419\n",
            "Epoch [87/100], Step [200/469], D_loss: 1.1034, G_loss: 1.2136\n",
            "Epoch [87/100], Step [400/469], D_loss: 1.3768, G_loss: 0.9862\n",
            "Epoch [88/100], Step [200/469], D_loss: 0.8837, G_loss: 1.5547\n",
            "Epoch [88/100], Step [400/469], D_loss: 1.2096, G_loss: 1.0193\n",
            "Epoch [89/100], Step [200/469], D_loss: 1.0974, G_loss: 1.2061\n",
            "Epoch [89/100], Step [400/469], D_loss: 1.4106, G_loss: 1.1351\n",
            "Epoch [90/100], Step [200/469], D_loss: 1.0477, G_loss: 1.1756\n",
            "Epoch [90/100], Step [400/469], D_loss: 1.0826, G_loss: 1.0721\n",
            "Epoch [91/100], Step [200/469], D_loss: 1.0851, G_loss: 1.0613\n",
            "Epoch [91/100], Step [400/469], D_loss: 1.1719, G_loss: 1.0873\n",
            "Epoch [92/100], Step [200/469], D_loss: 1.0125, G_loss: 1.2542\n",
            "Epoch [92/100], Step [400/469], D_loss: 1.1077, G_loss: 1.4353\n",
            "Epoch [93/100], Step [200/469], D_loss: 1.1409, G_loss: 1.2338\n",
            "Epoch [93/100], Step [400/469], D_loss: 1.2205, G_loss: 0.8882\n",
            "Epoch [94/100], Step [200/469], D_loss: 1.2299, G_loss: 1.0113\n",
            "Epoch [94/100], Step [400/469], D_loss: 1.1383, G_loss: 1.1039\n",
            "Epoch [95/100], Step [200/469], D_loss: 1.1349, G_loss: 1.1603\n",
            "Epoch [95/100], Step [400/469], D_loss: 1.1799, G_loss: 1.0580\n",
            "Epoch [96/100], Step [200/469], D_loss: 1.3103, G_loss: 1.1109\n",
            "Epoch [96/100], Step [400/469], D_loss: 1.2206, G_loss: 1.0847\n",
            "Epoch [97/100], Step [200/469], D_loss: 1.1941, G_loss: 1.0654\n",
            "Epoch [97/100], Step [400/469], D_loss: 1.6532, G_loss: 0.7764\n",
            "Epoch [98/100], Step [200/469], D_loss: 1.2683, G_loss: 1.0455\n",
            "Epoch [98/100], Step [400/469], D_loss: 1.0641, G_loss: 1.3479\n",
            "Epoch [99/100], Step [200/469], D_loss: 1.2517, G_loss: 1.1457\n",
            "Epoch [99/100], Step [400/469], D_loss: 1.4901, G_loss: 0.9054\n",
            "Epoch [100/100], Step [200/469], D_loss: 1.0058, G_loss: 1.1471\n",
            "Epoch [100/100], Step [400/469], D_loss: 1.2675, G_loss: 1.2631\n"
          ]
        }
      ]
    },
    {
      "cell_type": "code",
      "source": [
        "# Generate and plot some fake images\n",
        "num_samples = 10\n",
        "fake_images = generator(torch.randn(num_samples, latent_dim).to(device))\n",
        "fake_images = 0.5 * fake_images + 0.5  # Rescale the images to [0, 1]\n",
        "\n",
        "fig, axes = plt.subplots(1, num_samples, figsize=(20, 4))\n",
        "for i in range(num_samples):\n",
        "    axes[i].imshow(fake_images[i].cpu().detach().view(28, 28), cmap='gray')\n",
        "    axes[i].axis('off')\n",
        "plt.show()\n"
      ],
      "metadata": {
        "colab": {
          "base_uri": "https://localhost:8080/",
          "height": 144
        },
        "id": "t41_cBEOsL6c",
        "outputId": "f48263ad-d61e-4ca2-ffe2-2bfe6581f30e"
      },
      "execution_count": 12,
      "outputs": [
        {
          "output_type": "display_data",
          "data": {
            "text/plain": [
              "<Figure size 2000x400 with 10 Axes>"
            ],
            "image/png": "[encoded data removed]"
          },
          "metadata": {}
        }
      ]
    },
    {
      "cell_type": "code",
      "source": [
        "# Plot the generator and discriminator losses\n",
        "plt.plot(gen_losses, label='Generator Loss')\n",
        "plt.plot(disc_losses, label='Discriminator Loss')\n",
        "plt.xlabel('Iterations')\n",
        "plt.ylabel('Loss')\n",
        "plt.legend()\n",
        "plt.show()\n"
      ],
      "metadata": {
        "colab": {
          "base_uri": "https://localhost:8080/",
          "height": 449
        },
        "id": "7Fmvk59SsRTg",
        "outputId": "3b8aca83-a296-45aa-91f0-c5d007e845b5"
      },
      "execution_count": 13,
      "outputs": [
        {
          "output_type": "display_data",
          "data": {
            "text/plain": [
              "<Figure size 640x480 with 1 Axes>"
            ],
            "image/png": "[encoded data removed]"
          },
          "metadata": {}
        }
      ]
    }
  ],
  "metadata": {
    "colab": {
      "provenance": [],
      "gpuType": "T4"
    },
    "kernelspec": {
      "display_name": "Python 3",
      "name": "python3"
    },
    "language_info": {
      "name": "python"
    },
    "accelerator": "GPU",
    "gpuClass": "standard"
  },
  "nbformat": 4,
  "nbformat_minor": 0
}